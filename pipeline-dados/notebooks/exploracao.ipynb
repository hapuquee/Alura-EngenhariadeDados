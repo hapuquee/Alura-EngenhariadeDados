{
 "cells": [
  {
   "cell_type": "markdown",
   "metadata": {},
   "source": [
    "# Lendo os dados"
   ]
  },
  {
   "cell_type": "markdown",
   "metadata": {},
   "source": [
    "### dados empresa A em json"
   ]
  },
  {
   "cell_type": "code",
   "execution_count": 48,
   "metadata": {},
   "outputs": [],
   "source": [
    "import json"
   ]
  },
  {
   "cell_type": "code",
   "execution_count": 49,
   "metadata": {},
   "outputs": [],
   "source": [
    "path_json = '../data-raw/dados_empresaA.json'"
   ]
  },
  {
   "cell_type": "code",
   "execution_count": 50,
   "metadata": {},
   "outputs": [],
   "source": [
    "with open(path_json, 'r') as file:\n",
    "    dados_json = json.load(file)"
   ]
  },
  {
   "cell_type": "code",
   "execution_count": 51,
   "metadata": {},
   "outputs": [
    {
     "data": {
      "text/plain": [
       "{'Nome do Produto': 'Lápis de sobrancelha',\n",
       " 'Categoria do Produto': 'Eletrodomésticos',\n",
       " 'Preço do Produto (R$)': 85.47,\n",
       " 'Quantidade em Estoque': 78,\n",
       " 'Filial': 'Filial 8'}"
      ]
     },
     "execution_count": 51,
     "metadata": {},
     "output_type": "execute_result"
    }
   ],
   "source": [
    "dados_json[1] #dic"
   ]
  },
  {
   "cell_type": "markdown",
   "metadata": {},
   "source": [
    "### dados empresa B csv"
   ]
  },
  {
   "cell_type": "code",
   "execution_count": 52,
   "metadata": {},
   "outputs": [],
   "source": [
    "import csv"
   ]
  },
  {
   "cell_type": "code",
   "execution_count": 53,
   "metadata": {},
   "outputs": [],
   "source": [
    "path_csv = '../data-raw/dados_empresaB.csv'"
   ]
  },
  {
   "cell_type": "code",
   "execution_count": 54,
   "metadata": {},
   "outputs": [],
   "source": [
    "dados_csv = []\n",
    "with open(path_csv, 'r') as file:\n",
    "    spamreader = csv.DictReader(file, delimiter=',')\n",
    "    for row in spamreader:\n",
    "        dados_csv.append(row)"
   ]
  },
  {
   "cell_type": "code",
   "execution_count": 55,
   "metadata": {},
   "outputs": [
    {
     "data": {
      "text/plain": [
       "{'Nome do Item': 'Batom matte',\n",
       " 'Classificação do Produto': 'Eletrônicos',\n",
       " 'Valor em Reais (R$)': '74.15',\n",
       " 'Quantidade em Estoque': '48',\n",
       " 'Nome da Loja': 'Filial 9',\n",
       " 'Data da Venda': '2023-06-03 18:58:06.794203'}"
      ]
     },
     "execution_count": 55,
     "metadata": {},
     "output_type": "execute_result"
    }
   ],
   "source": [
    "dados_csv[1]"
   ]
  },
  {
   "cell_type": "markdown",
   "metadata": {},
   "source": [
    "### analisando colunas e mantendo um padrão\n"
   ]
  },
  {
   "cell_type": "code",
   "execution_count": 56,
   "metadata": {},
   "outputs": [
    {
     "data": {
      "text/plain": [
       "['Nome do Produto',\n",
       " 'Categoria do Produto',\n",
       " 'Preço do Produto (R$)',\n",
       " 'Quantidade em Estoque',\n",
       " 'Filial']"
      ]
     },
     "execution_count": 56,
     "metadata": {},
     "output_type": "execute_result"
    }
   ],
   "source": [
    "nome_colunas_json = list(dados_json[0].keys())\n",
    "nome_colunas_json"
   ]
  },
  {
   "cell_type": "code",
   "execution_count": 57,
   "metadata": {},
   "outputs": [
    {
     "data": {
      "text/plain": [
       "['Nome do Item',\n",
       " 'Classificação do Produto',\n",
       " 'Valor em Reais (R$)',\n",
       " 'Quantidade em Estoque',\n",
       " 'Nome da Loja',\n",
       " 'Data da Venda']"
      ]
     },
     "execution_count": 57,
     "metadata": {},
     "output_type": "execute_result"
    }
   ],
   "source": [
    "nome_colunas_csv = list(dados_csv[0].keys())\n",
    "nome_colunas_csv"
   ]
  },
  {
   "cell_type": "code",
   "execution_count": 58,
   "metadata": {},
   "outputs": [
    {
     "data": {
      "text/plain": [
       "{'Nome do Item': 'Nome do Produto',\n",
       " 'Classificação do Produto': 'Categoria do Produto',\n",
       " 'Valor em Reais (R$)': 'Preço do Produto (R$)',\n",
       " 'Quantidade em Estoque': 'Quantidade em Estoque',\n",
       " 'Nome da Loja': 'Filial',\n",
       " 'Data da Venda': 'Data da Venda'}"
      ]
     },
     "execution_count": 58,
     "metadata": {},
     "output_type": "execute_result"
    }
   ],
   "source": [
    "key_mapping = {'Nome do Item': 'Nome do Produto',\n",
    "                'Classificação do Produto': 'Categoria do Produto',\n",
    "                'Valor em Reais (R$)': 'Preço do Produto (R$)',\n",
    "                'Quantidade em Estoque': 'Quantidade em Estoque',\n",
    "                'Nome da Loja': 'Filial',\n",
    "                'Data da Venda': 'Data da Venda'}\n",
    "key_mapping\n"
   ]
  },
  {
   "cell_type": "code",
   "execution_count": 67,
   "metadata": {},
   "outputs": [],
   "source": [
    "new_dados_csv = [{key_mapping.get(old_key): value for old_key, value in old_dict.items()} for old_dict in dados_csv]\n"
   ]
  },
  {
   "cell_type": "code",
   "execution_count": 68,
   "metadata": {},
   "outputs": [
    {
     "data": {
      "text/plain": [
       "{'Nome do Produto': 'Lápis de sobrancelha',\n",
       " 'Categoria do Produto': 'Roupas',\n",
       " 'Preço do Produto (R$)': '55.17',\n",
       " 'Quantidade em Estoque': '62',\n",
       " 'Filial': 'Filial 1',\n",
       " 'Data da Venda': '2023-04-13 18:58:06.794203'}"
      ]
     },
     "execution_count": 68,
     "metadata": {},
     "output_type": "execute_result"
    }
   ],
   "source": [
    "new_dados_csv[0]"
   ]
  },
  {
   "cell_type": "markdown",
   "metadata": {},
   "source": [
    "### juntando e salvando os arquivos"
   ]
  },
  {
   "cell_type": "code",
   "execution_count": 61,
   "metadata": {},
   "outputs": [
    {
     "data": {
      "text/plain": [
       "4446"
      ]
     },
     "execution_count": 61,
     "metadata": {},
     "output_type": "execute_result"
    }
   ],
   "source": [
    "len(dados_json) + len(new_dados_csv)"
   ]
  },
  {
   "cell_type": "code",
   "execution_count": 62,
   "metadata": {},
   "outputs": [
    {
     "data": {
      "text/plain": [
       "4446"
      ]
     },
     "execution_count": 62,
     "metadata": {},
     "output_type": "execute_result"
    }
   ],
   "source": [
    "combined_list = []\n",
    "combined_list.extend(dados_json)\n",
    "combined_list.extend(new_dados_csv)\n",
    "len(combined_list)"
   ]
  },
  {
   "cell_type": "code",
   "execution_count": 63,
   "metadata": {},
   "outputs": [],
   "source": [
    "nomes_colunas = list(combined_list[0].keys())"
   ]
  },
  {
   "cell_type": "code",
   "execution_count": 77,
   "metadata": {},
   "outputs": [],
   "source": [
    "path_dados_combinados = '../data-processed/dados_combinados.csv'"
   ]
  },
  {
   "cell_type": "code",
   "execution_count": 71,
   "metadata": {},
   "outputs": [
    {
     "data": {
      "text/plain": [
       "'indisponivel'"
      ]
     },
     "execution_count": 71,
     "metadata": {},
     "output_type": "execute_result"
    }
   ],
   "source": [
    "combined_list[0].get('Data da Venda', 'indisponivel')"
   ]
  },
  {
   "cell_type": "code",
   "execution_count": 73,
   "metadata": {},
   "outputs": [
    {
     "data": {
      "text/plain": [
       "['Nome do Produto',\n",
       " 'Categoria do Produto',\n",
       " 'Preço do Produto (R$)',\n",
       " 'Quantidade em Estoque',\n",
       " 'Filial',\n",
       " 'Data da Venda']"
      ]
     },
     "execution_count": 73,
     "metadata": {},
     "output_type": "execute_result"
    }
   ],
   "source": [
    "nomes_colunas = list(combined_list[-1].keys())\n",
    "nomes_colunas"
   ]
  },
  {
   "cell_type": "code",
   "execution_count": 74,
   "metadata": {},
   "outputs": [],
   "source": [
    "dados_combinados_tabela = [nomes_colunas]\n",
    "\n",
    "for row in combined_list:\n",
    "    linha = []\n",
    "    for coluna in nomes_colunas:\n",
    "        linha.append(row.get(coluna, 'Indisponivel'))\n",
    "    dados_combinados_tabela.append(linha)\n"
   ]
  },
  {
   "cell_type": "code",
   "execution_count": 76,
   "metadata": {},
   "outputs": [
    {
     "data": {
      "text/plain": [
       "['Blush em pó', 'Eletrodomésticos', 79.41, 7, 'Filial 7', 'Indisponivel']"
      ]
     },
     "execution_count": 76,
     "metadata": {},
     "output_type": "execute_result"
    }
   ],
   "source": [
    "dados_combinados_tabela[1]"
   ]
  },
  {
   "cell_type": "code",
   "execution_count": 78,
   "metadata": {},
   "outputs": [],
   "source": [
    "with open(path_dados_combinados, 'w') as file:\n",
    "    writer = csv.writer(file)\n",
    "    writer.writerows(dados_combinados_tabela) "
   ]
  },
  {
   "cell_type": "code",
   "execution_count": null,
   "metadata": {},
   "outputs": [],
   "source": []
  }
 ],
 "metadata": {
  "kernelspec": {
   "display_name": "Python 3",
   "language": "python",
   "name": "python3"
  },
  "language_info": {
   "codemirror_mode": {
    "name": "ipython",
    "version": 3
   },
   "file_extension": ".py",
   "mimetype": "text/x-python",
   "name": "python",
   "nbconvert_exporter": "python",
   "pygments_lexer": "ipython3",
   "version": "3.10.12"
  }
 },
 "nbformat": 4,
 "nbformat_minor": 2
}
